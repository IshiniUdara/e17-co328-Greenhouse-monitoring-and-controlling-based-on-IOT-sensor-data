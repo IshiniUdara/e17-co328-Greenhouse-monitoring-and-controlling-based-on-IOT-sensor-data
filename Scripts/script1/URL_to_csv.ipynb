{
 "cells": [
  {
   "cell_type": "code",
   "execution_count": 1,
   "metadata": {
    "collapsed": true
   },
   "outputs": [],
   "source": [
    "# importing the requests library\n",
    "import requests\n",
    "import datetime\n",
    "import csv"
   ]
  },
  {
   "cell_type": "code",
   "execution_count": 12,
   "outputs": [
    {
     "name": "stdout",
     "output_type": "stream",
     "text": [
      "894\n"
     ]
    }
   ],
   "source": [
    "\n",
    "# api-endpoint\n",
    "site=1001\n",
    "x = datetime.datetime(2021, 1, 1)\n",
    "sensor=10027\n",
    "\n",
    "URL = f\"http://agbc-fe.pdn.ac.lk/api/v1/data/?trial=1&date={x.date()}&site={site}&sensor={sensor}\"\n",
    "\n",
    "\n",
    "# sending get request and saving the response as response object\n",
    "r = requests.get(url = URL)\n",
    "\n",
    "# extracting data in json format\n",
    "data = r.json()\n",
    "\n",
    "# printing the output\n",
    "# print(len(data['data']))\n",
    "# print(data['data'][2])\n",
    "x= len(data['data'])\n",
    "print(x)"
   ],
   "metadata": {
    "collapsed": false,
    "pycharm": {
     "name": "#%%\n"
    }
   }
  },
  {
   "cell_type": "code",
   "execution_count": 3,
   "outputs": [
    {
     "name": "stdout",
     "output_type": "stream",
     "text": [
      "2003-01-29\n",
      "2003-01-30\n",
      "2003-01-31\n",
      "2003-02-01\n",
      "2003-02-02\n"
     ]
    }
   ],
   "source": [
    "#increse date\n",
    "date = datetime.datetime(2003,1,28,12,4,5)\n",
    "for i in range(5):\n",
    "    date += datetime.timedelta(days=1)\n",
    "    print(date.date())"
   ],
   "metadata": {
    "collapsed": false,
    "pycharm": {
     "name": "#%%\n"
    }
   }
  },
  {
   "cell_type": "code",
   "execution_count": 38,
   "outputs": [],
   "source": [
    "#take all data of one sensor\n",
    "# api-endpoint\n",
    "site=1001\n",
    "d = datetime.datetime(2021, 1, 1)\n",
    "sensor=10027\n",
    "\n",
    "URL = f\"http://agbc-fe.pdn.ac.lk/api/v1/data/?trial=1&date={d.date()}&site={site}&sensor={sensor}\"\n",
    "\n",
    "# sending get request and saving the response as response object\n",
    "r = requests.get(url = URL)\n",
    "\n",
    "data = r.json()\n",
    "\n",
    "l= len(data['data'])\n",
    "# print(data['data'][893])\n",
    "header = ['siteID', 'seqNo', 'date', 'time', 'temp1', 'temp2', 'temp3', 'humidity1', 'humidity2', 'humidity3', 'light']\n",
    "with open('test.csv', 'w', encoding='UTF8', newline='') as f:\n",
    "    writer = csv.writer(f)\n",
    "\n",
    "    # write the header\n",
    "    writer.writerow(header)\n",
    "\n",
    "    Data_array = [None] * 11\n",
    "    for i in range(l):\n",
    "        Data_array[0]= data['data'][i]['siteId']\n",
    "        Data_array[1]= data['data'][i]['seqNo']\n",
    "        Data_array[2]= data['data'][i]['date']\n",
    "        Data_array[3]= data['data'][i]['time']\n",
    "        Data_array[4]= data['data'][i]['temp1']\n",
    "        Data_array[5]= data['data'][i]['temp2']\n",
    "        Data_array[6]= data['data'][i]['temp3']\n",
    "        Data_array[7]= data['data'][i]['humidity1']\n",
    "        Data_array[8]= data['data'][i]['humidity2']\n",
    "        Data_array[9]= data['data'][i]['humidity3']\n",
    "        Data_array[10]= data['data'][i]['light']\n",
    "\n",
    "        writer.writerow(Data_array)\n",
    "    # write the data\n",
    "    # writer.writerow(Data_array)\n",
    "\n",
    "\n",
    "\n"
   ],
   "metadata": {
    "collapsed": false,
    "pycharm": {
     "name": "#%%\n"
    }
   }
  },
  {
   "cell_type": "code",
   "execution_count": null,
   "outputs": [],
   "source": [],
   "metadata": {
    "collapsed": false,
    "pycharm": {
     "name": "#%%\n"
    }
   }
  }
 ],
 "metadata": {
  "kernelspec": {
   "display_name": "Python 3",
   "language": "python",
   "name": "python3"
  },
  "language_info": {
   "codemirror_mode": {
    "name": "ipython",
    "version": 2
   },
   "file_extension": ".py",
   "mimetype": "text/x-python",
   "name": "python",
   "nbconvert_exporter": "python",
   "pygments_lexer": "ipython2",
   "version": "2.7.6"
  }
 },
 "nbformat": 4,
 "nbformat_minor": 0
}