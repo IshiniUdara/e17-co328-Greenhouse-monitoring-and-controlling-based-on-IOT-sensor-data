{
 "cells": [
  {
   "cell_type": "code",
   "execution_count": 20,
   "metadata": {
    "collapsed": true
   },
   "outputs": [],
   "source": [
    "# importing the requests library\n",
    "import requests\n",
    "import datetime\n",
    "import csv"
   ]
  },
  {
   "cell_type": "code",
   "execution_count": 21,
   "outputs": [
    {
     "name": "stdout",
     "output_type": "stream",
     "text": [
      "894\n"
     ]
    }
   ],
   "source": [
    "\n",
    "# api-endpoint\n",
    "site=1001\n",
    "x = datetime.datetime(2021, 1, 1)\n",
    "sensor=10027\n",
    "\n",
    "URL = f\"http://agbc-fe.pdn.ac.lk/api/v1/data/?trial=1&date={x.date()}&site={site}&sensor={sensor}\"\n",
    "\n",
    "\n",
    "# sending get request and saving the response as response object\n",
    "r = requests.get(url = URL)\n",
    "\n",
    "# extracting data in json format\n",
    "data = r.json()\n",
    "\n",
    "# printing the output\n",
    "# print(len(data['data']))\n",
    "# print(data['data'][2])\n",
    "x= len(data['data'])\n",
    "print(x)"
   ],
   "metadata": {
    "collapsed": false,
    "pycharm": {
     "name": "#%%\n"
    }
   }
  },
  {
   "cell_type": "code",
   "execution_count": 21,
   "outputs": [],
   "source": [],
   "metadata": {
    "collapsed": false,
    "pycharm": {
     "name": "#%%\n"
    }
   }
  },
  {
   "cell_type": "code",
   "execution_count": 21,
   "outputs": [],
   "source": [
    "\n",
    "\n"
   ],
   "metadata": {
    "collapsed": false,
    "pycharm": {
     "name": "#%%\n"
    }
   }
  },
  {
   "cell_type": "code",
   "execution_count": 22,
   "outputs": [],
   "source": [
    "            #             \"siteId\": \"1001\",\n",
    "            # \"seqNo\": \" 1986\",\n",
    "            # \"date\": \" 2021-01-01\",\n",
    "            # \"time\": \" 16:30:11\",\n",
    "            # \"temp1\": \" ?\",\n",
    "            # \"temp2\": \" 22\",\n",
    "            # \"temp3\": \" 22.7\",\n",
    "            # \"humidity1\": \" ?\",\n",
    "            # \"humidity2\": \" 95\",\n",
    "            # \"humidity3\": \" 95\",\n",
    "            # \"light\": \" 0\""
   ],
   "metadata": {
    "collapsed": false,
    "pycharm": {
     "name": "#%%\n"
    }
   }
  },
  {
   "cell_type": "code",
   "execution_count": 22,
   "outputs": [],
   "source": [
    "\n"
   ],
   "metadata": {
    "collapsed": false,
    "pycharm": {
     "name": "#%%\n"
    }
   }
  },
  {
   "cell_type": "code",
   "execution_count": 23,
   "outputs": [
    {
     "name": "stdout",
     "output_type": "stream",
     "text": [
      "{'siteId': '1001', 'seqNo': ' 1979', 'date': ' 2021-01-01', 'time': ' 16:30:11', 'temp1': ' ?', 'temp2': ' 22', 'temp3': ' 22.7', 'humidity1': ' ?', 'humidity2': ' 95', 'humidity3': ' 95', 'light': ' 0'}\n"
     ]
    }
   ],
   "source": [
    "print(data['data'][0])"
   ],
   "metadata": {
    "collapsed": false,
    "pycharm": {
     "name": "#%%\n"
    }
   }
  },
  {
   "cell_type": "code",
   "execution_count": 23,
   "outputs": [],
   "source": [],
   "metadata": {
    "collapsed": false,
    "pycharm": {
     "name": "#%%\n"
    }
   }
  }
 ],
 "metadata": {
  "kernelspec": {
   "display_name": "Python 3",
   "language": "python",
   "name": "python3"
  },
  "language_info": {
   "codemirror_mode": {
    "name": "ipython",
    "version": 2
   },
   "file_extension": ".py",
   "mimetype": "text/x-python",
   "name": "python",
   "nbconvert_exporter": "python",
   "pygments_lexer": "ipython2",
   "version": "2.7.6"
  }
 },
 "nbformat": 4,
 "nbformat_minor": 0
}