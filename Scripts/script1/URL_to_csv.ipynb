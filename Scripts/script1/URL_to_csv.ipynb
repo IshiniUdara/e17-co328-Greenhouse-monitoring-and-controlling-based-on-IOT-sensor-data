{
 "cells": [
  {
   "cell_type": "code",
   "execution_count": 2,
   "metadata": {
    "collapsed": true
   },
   "outputs": [],
   "source": [
    "# importing the requests library\n",
    "import requests\n",
    "import datetime\n",
    "import csv"
   ]
  },
  {
   "cell_type": "code",
   "execution_count": 30,
   "outputs": [
    {
     "name": "stdout",
     "output_type": "stream",
     "text": [
      "92\n"
     ]
    }
   ],
   "source": [
    "#calculate time duration\n",
    "d0 = datetime.datetime(2020, 10, 12)\n",
    "d1 = datetime.datetime(2021, 1, 12)\n",
    "delta = d1 - d0\n",
    "print(delta.days)"
   ],
   "metadata": {
    "collapsed": false,
    "pycharm": {
     "name": "#%%\n"
    }
   }
  },
  {
   "cell_type": "code",
   "execution_count": 10,
   "outputs": [
    {
     "name": "stdout",
     "output_type": "stream",
     "text": [
      "Controlled site\n",
      "['10008', '10009', '10010', '10011', '10012', '10013', '10014', '10015']\n",
      "8\n",
      "Glasshouse\n",
      "['10021', '10024', '10025', '10026', '10027', '10028']\n",
      "Monitor Only Site\n",
      "['10016', '10017', '10018', '10019', '10020', '10022', '10023', '10029']\n"
     ]
    }
   ],
   "source": [
    "URL_info = f\"http://agbc-fe.pdn.ac.lk/api/v1/info/\"\n",
    "\n",
    "# sending get request and saving the response as response object\n",
    "req = requests.get(url = URL_info)\n",
    "\n",
    "info = req.json()\n",
    "print(info['trials']['2']['siteIDs']['1000']['title'])\n",
    "print(info['trials']['2']['siteIDs']['1000']['sensorIDs'])\n",
    "print(len(info['trials']['2']['siteIDs']['1000']['sensorIDs']))\n",
    "\n",
    "print(info['trials']['2']['siteIDs']['1001']['title'])\n",
    "print(info['trials']['2']['siteIDs']['1001']['sensorIDs'])\n",
    "\n",
    "print(info['trials']['2']['siteIDs']['1002']['title'])\n",
    "print(info['trials']['2']['siteIDs']['1002']['sensorIDs'])"
   ],
   "metadata": {
    "collapsed": false,
    "pycharm": {
     "name": "#%%\n"
    }
   }
  },
  {
   "cell_type": "code",
   "execution_count": 3,
   "outputs": [],
   "source": [
    "#function to take all data of one sensor in year\n",
    "\n",
    "def all_sensorD_to_csv(site,sensorID,file_name):\n",
    "    site = site\n",
    "    sensor=sensorID\n",
    "    file_name=file_name\n",
    "    d_start = datetime.datetime(2020, 10, 12)\n",
    "    trial = 2\n",
    "\n",
    "    header = ['siteID', 'seqNo', 'date', 'time', 'temp1', 'temp2', 'temp3', 'humidity1', 'humidity2', 'humidity3', 'light']\n",
    "    with open(file_name, 'w', encoding='UTF8', newline='') as f:\n",
    "        writer = csv.writer(f)\n",
    "        writer.writerow(header)\n",
    "\n",
    "        for j in range(92):\n",
    "\n",
    "            URL_data = f\"http://agbc-fe.pdn.ac.lk/api/v1/data/?trial={trial}&date={d_start.date()}&site={site}&sensor={sensor}\"\n",
    "            d_start += datetime.timedelta(days=1)\n",
    "            # sending get request and saving the response as response object\n",
    "            r = requests.get(url = URL_data)\n",
    "\n",
    "            data = r.json()\n",
    "\n",
    "            l= len(data['data'])\n",
    "\n",
    "\n",
    "\n",
    "\n",
    "            Data_array = [None] * 11\n",
    "            for i in range(l):\n",
    "                Data_array[0]= data['data'][i]['siteId']\n",
    "                Data_array[1]= data['data'][i]['seqNo']\n",
    "                Data_array[2]= data['data'][i]['date']\n",
    "                Data_array[3]= data['data'][i]['time']\n",
    "                Data_array[4]= data['data'][i]['temp1']\n",
    "                Data_array[5]= data['data'][i]['temp2']\n",
    "                Data_array[6]= data['data'][i]['temp3']\n",
    "                Data_array[7]= data['data'][i]['humidity1']\n",
    "                Data_array[8]= data['data'][i]['humidity2']\n",
    "                Data_array[9]= data['data'][i]['humidity3']\n",
    "                Data_array[10]= data['data'][i]['light']\n",
    "\n",
    "                writer.writerow(Data_array)\n",
    "        # write the data\n",
    "        # writer.writerow(Data_array)"
   ],
   "metadata": {
    "collapsed": false,
    "pycharm": {
     "name": "#%%\n"
    }
   }
  },
  {
   "cell_type": "code",
   "execution_count": 28,
   "outputs": [],
   "source": [
    "# all_sensorD_to_csv(1001,10027,\"new.csv\")"
   ],
   "metadata": {
    "collapsed": false,
    "pycharm": {
     "name": "#%%\n"
    }
   }
  },
  {
   "cell_type": "code",
   "execution_count": 31,
   "outputs": [],
   "source": [
    "#Control site all data\n",
    "all_sensorD_to_csv(1000,10008,\"Control site_10008.csv\")\n",
    "all_sensorD_to_csv(1000,10009,\"Control site_10009.csv\")\n",
    "all_sensorD_to_csv(1000,10010,\"Control site_10010.csv\")\n",
    "all_sensorD_to_csv(1000,10011,\"Control site_10011.csv\")\n",
    "all_sensorD_to_csv(1000,10012,\"Control site_10012.csv\")\n",
    "all_sensorD_to_csv(1000,10013,\"Control site_10013.csv\")\n",
    "all_sensorD_to_csv(1000,10014,\"Control site_10014.csv\")\n",
    "all_sensorD_to_csv(1000,10015,\"Control site_10015.csv\")"
   ],
   "metadata": {
    "collapsed": false,
    "pycharm": {
     "name": "#%%\n"
    }
   }
  },
  {
   "cell_type": "code",
   "execution_count": 32,
   "outputs": [],
   "source": [
    "#GlassHouse site all data\n",
    "all_sensorD_to_csv(1001,10021,\"GlassHouse_10021.csv\")\n",
    "all_sensorD_to_csv(1001,10024,\"GlassHouse_10024.csv\")\n",
    "all_sensorD_to_csv(1001,10025,\"GlassHouse_10025.csv\")\n",
    "all_sensorD_to_csv(1001,10026,\"GlassHouse_10026.csv\")\n",
    "all_sensorD_to_csv(1001,10027,\"GlassHouse_10027.csv\")\n",
    "all_sensorD_to_csv(1001,10028,\"GlassHouse_10028.csv\")"
   ],
   "metadata": {
    "collapsed": false,
    "pycharm": {
     "name": "#%%\n"
    }
   }
  },
  {
   "cell_type": "code",
   "execution_count": 4,
   "outputs": [],
   "source": [
    "#Monitor only site all data\n",
    "all_sensorD_to_csv(1002,10016,\"Monitor only_10016.csv\")\n",
    "all_sensorD_to_csv(1002,10017,\"Monitor only_10017.csv\")\n",
    "all_sensorD_to_csv(1002,10018,\"Monitor only_10018.csv\")\n",
    "all_sensorD_to_csv(1002,10019,\"Monitor only_10019.csv\")\n",
    "all_sensorD_to_csv(1002,10020,\"Monitor only_10020.csv\")\n",
    "all_sensorD_to_csv(1002,10022,\"Monitor only_10022.csv\")\n",
    "all_sensorD_to_csv(1002,10023,\"Monitor only_10023.csv\")\n",
    "all_sensorD_to_csv(1002,10029,\"Monitor only_10029.csv\")"
   ],
   "metadata": {
    "collapsed": false,
    "pycharm": {
     "name": "#%%\n"
    }
   }
  },
  {
   "cell_type": "code",
   "execution_count": null,
   "outputs": [],
   "source": [],
   "metadata": {
    "collapsed": false,
    "pycharm": {
     "name": "#%%\n"
    }
   }
  }
 ],
 "metadata": {
  "kernelspec": {
   "display_name": "Python 3",
   "language": "python",
   "name": "python3"
  },
  "language_info": {
   "codemirror_mode": {
    "name": "ipython",
    "version": 2
   },
   "file_extension": ".py",
   "mimetype": "text/x-python",
   "name": "python",
   "nbconvert_exporter": "python",
   "pygments_lexer": "ipython2",
   "version": "2.7.6"
  }
 },
 "nbformat": 4,
 "nbformat_minor": 0
}