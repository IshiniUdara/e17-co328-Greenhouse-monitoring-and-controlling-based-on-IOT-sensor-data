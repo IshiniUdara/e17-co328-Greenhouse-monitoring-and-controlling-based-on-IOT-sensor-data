{
 "cells": [
  {
   "cell_type": "code",
   "execution_count": 1,
   "metadata": {},
   "outputs": [],
   "source": [
    "import pandas as pd"
   ]
  },
  {
   "cell_type": "code",
   "execution_count": 30,
   "metadata": {
    "pycharm": {
     "name": "#%%\n"
    }
   },
   "outputs": [],
   "source": [
    "df1 = pd.read_csv('Control site_10008.csv')\n",
    "df2 = pd.read_csv('Control site_10009.csv')\n",
    "df3 = pd.read_csv('Control site_10010.csv')\n",
    "df4 = pd.read_csv('Control site_10011.csv')\n",
    "df5 = pd.read_csv('Control site_10012.csv')\n",
    "df6 = pd.read_csv('Control site_10013.csv')\n",
    "df7 = pd.read_csv('Control site_10014.csv')\n",
    "df8 = pd.read_csv('Control site_10015.csv')"
   ]
  },
  {
   "cell_type": "code",
   "execution_count": 3,
   "outputs": [
    {
     "data": {
      "text/plain": "2445575"
     },
     "execution_count": 3,
     "metadata": {},
     "output_type": "execute_result"
    }
   ],
   "source": [
    "df1.size"
   ],
   "metadata": {
    "collapsed": false,
    "pycharm": {
     "name": "#%%\n"
    }
   }
  },
  {
   "cell_type": "code",
   "execution_count": 4,
   "outputs": [
    {
     "data": {
      "text/plain": "        siteID  seqNo         date       time  temp1  temp2  temp3 humidity1  \\\n0            0      0   2020-10-12   10:07:16   27.3   29.2   28.3      91.8   \n1            0      1   2020-10-12   10:07:30   27.5   29.1   28.7      95.5   \n2            0      2   2020-10-12   10:07:46   27.6   29.3   28.7      95.6   \n3            0      3   2020-10-12   10:08:00   27.7   29.3   28.9        96   \n4            0      4   2020-10-12   10:08:16   27.7   29.3   28.9      95.5   \n...        ...    ...          ...        ...    ...    ...    ...       ...   \n222320       0   2874   2021-01-11   23:57:31   22.4   23.3   22.1      99.9   \n222321       0   2875   2021-01-11   23:58:01   22.4   23.2   22.1      99.9   \n222322       0   2876   2021-01-11   23:58:31   22.4   23.2   22.2      99.9   \n222323       0   2877   2021-01-11   23:59:01   22.4   23.3   22.2      99.9   \n222324       0   2878   2021-01-11   23:59:33      ?   23.2   22.2         ?   \n\n       humidity2 humidity3      light  \n0             85        95  18414.200  \n1             86        95  11324.600  \n2             86        95  18218.300  \n3             85        95   9532.920  \n4             85        95   9432.080  \n...          ...       ...        ...  \n222320        95        95      1.042  \n222321        95        95      1.042  \n222322        95        95      1.042  \n222323        95        95      1.042  \n222324        95        95      1.042  \n\n[222325 rows x 11 columns]",
      "text/html": "<div>\n<style scoped>\n    .dataframe tbody tr th:only-of-type {\n        vertical-align: middle;\n    }\n\n    .dataframe tbody tr th {\n        vertical-align: top;\n    }\n\n    .dataframe thead th {\n        text-align: right;\n    }\n</style>\n<table border=\"1\" class=\"dataframe\">\n  <thead>\n    <tr style=\"text-align: right;\">\n      <th></th>\n      <th>siteID</th>\n      <th>seqNo</th>\n      <th>date</th>\n      <th>time</th>\n      <th>temp1</th>\n      <th>temp2</th>\n      <th>temp3</th>\n      <th>humidity1</th>\n      <th>humidity2</th>\n      <th>humidity3</th>\n      <th>light</th>\n    </tr>\n  </thead>\n  <tbody>\n    <tr>\n      <th>0</th>\n      <td>0</td>\n      <td>0</td>\n      <td>2020-10-12</td>\n      <td>10:07:16</td>\n      <td>27.3</td>\n      <td>29.2</td>\n      <td>28.3</td>\n      <td>91.8</td>\n      <td>85</td>\n      <td>95</td>\n      <td>18414.200</td>\n    </tr>\n    <tr>\n      <th>1</th>\n      <td>0</td>\n      <td>1</td>\n      <td>2020-10-12</td>\n      <td>10:07:30</td>\n      <td>27.5</td>\n      <td>29.1</td>\n      <td>28.7</td>\n      <td>95.5</td>\n      <td>86</td>\n      <td>95</td>\n      <td>11324.600</td>\n    </tr>\n    <tr>\n      <th>2</th>\n      <td>0</td>\n      <td>2</td>\n      <td>2020-10-12</td>\n      <td>10:07:46</td>\n      <td>27.6</td>\n      <td>29.3</td>\n      <td>28.7</td>\n      <td>95.6</td>\n      <td>86</td>\n      <td>95</td>\n      <td>18218.300</td>\n    </tr>\n    <tr>\n      <th>3</th>\n      <td>0</td>\n      <td>3</td>\n      <td>2020-10-12</td>\n      <td>10:08:00</td>\n      <td>27.7</td>\n      <td>29.3</td>\n      <td>28.9</td>\n      <td>96</td>\n      <td>85</td>\n      <td>95</td>\n      <td>9532.920</td>\n    </tr>\n    <tr>\n      <th>4</th>\n      <td>0</td>\n      <td>4</td>\n      <td>2020-10-12</td>\n      <td>10:08:16</td>\n      <td>27.7</td>\n      <td>29.3</td>\n      <td>28.9</td>\n      <td>95.5</td>\n      <td>85</td>\n      <td>95</td>\n      <td>9432.080</td>\n    </tr>\n    <tr>\n      <th>...</th>\n      <td>...</td>\n      <td>...</td>\n      <td>...</td>\n      <td>...</td>\n      <td>...</td>\n      <td>...</td>\n      <td>...</td>\n      <td>...</td>\n      <td>...</td>\n      <td>...</td>\n      <td>...</td>\n    </tr>\n    <tr>\n      <th>222320</th>\n      <td>0</td>\n      <td>2874</td>\n      <td>2021-01-11</td>\n      <td>23:57:31</td>\n      <td>22.4</td>\n      <td>23.3</td>\n      <td>22.1</td>\n      <td>99.9</td>\n      <td>95</td>\n      <td>95</td>\n      <td>1.042</td>\n    </tr>\n    <tr>\n      <th>222321</th>\n      <td>0</td>\n      <td>2875</td>\n      <td>2021-01-11</td>\n      <td>23:58:01</td>\n      <td>22.4</td>\n      <td>23.2</td>\n      <td>22.1</td>\n      <td>99.9</td>\n      <td>95</td>\n      <td>95</td>\n      <td>1.042</td>\n    </tr>\n    <tr>\n      <th>222322</th>\n      <td>0</td>\n      <td>2876</td>\n      <td>2021-01-11</td>\n      <td>23:58:31</td>\n      <td>22.4</td>\n      <td>23.2</td>\n      <td>22.2</td>\n      <td>99.9</td>\n      <td>95</td>\n      <td>95</td>\n      <td>1.042</td>\n    </tr>\n    <tr>\n      <th>222323</th>\n      <td>0</td>\n      <td>2877</td>\n      <td>2021-01-11</td>\n      <td>23:59:01</td>\n      <td>22.4</td>\n      <td>23.3</td>\n      <td>22.2</td>\n      <td>99.9</td>\n      <td>95</td>\n      <td>95</td>\n      <td>1.042</td>\n    </tr>\n    <tr>\n      <th>222324</th>\n      <td>0</td>\n      <td>2878</td>\n      <td>2021-01-11</td>\n      <td>23:59:33</td>\n      <td>?</td>\n      <td>23.2</td>\n      <td>22.2</td>\n      <td>?</td>\n      <td>95</td>\n      <td>95</td>\n      <td>1.042</td>\n    </tr>\n  </tbody>\n</table>\n<p>222325 rows × 11 columns</p>\n</div>"
     },
     "execution_count": 4,
     "metadata": {},
     "output_type": "execute_result"
    }
   ],
   "source": [
    "df1.drop_duplicates()"
   ],
   "metadata": {
    "collapsed": false,
    "pycharm": {
     "name": "#%%\n"
    }
   }
  },
  {
   "cell_type": "code",
   "execution_count": 31,
   "outputs": [
    {
     "ename": "error",
     "evalue": "nothing to repeat at position 0",
     "output_type": "error",
     "traceback": [
      "\u001B[1;31m---------------------------------------------------------------------------\u001B[0m",
      "\u001B[1;31merror\u001B[0m                                     Traceback (most recent call last)",
      "Input \u001B[1;32mIn [31]\u001B[0m, in \u001B[0;36m<cell line: 1>\u001B[1;34m()\u001B[0m\n\u001B[1;32m----> 1\u001B[0m df1[\u001B[43mdf1\u001B[49m\u001B[43m[\u001B[49m\u001B[38;5;124;43m\"\u001B[39;49m\u001B[38;5;124;43mtemp1\u001B[39;49m\u001B[38;5;124;43m\"\u001B[39;49m\u001B[43m]\u001B[49m\u001B[38;5;241;43m.\u001B[39;49m\u001B[43mstr\u001B[49m\u001B[38;5;241;43m.\u001B[39;49m\u001B[43mcontains\u001B[49m\u001B[43m(\u001B[49m\u001B[38;5;124;43m\"\u001B[39;49m\u001B[38;5;124;43m?\u001B[39;49m\u001B[38;5;124;43m\"\u001B[39;49m\u001B[43m)\u001B[49m\u001B[38;5;241m==\u001B[39m\u001B[38;5;28;01mFalse\u001B[39;00m]\n",
      "File \u001B[1;32mf:\\sowftwear\\git\\git\\classroom\\lab7\\script1\\lib\\site-packages\\pandas\\core\\strings\\accessor.py:125\u001B[0m, in \u001B[0;36mforbid_nonstring_types.<locals>._forbid_nonstring_types.<locals>.wrapper\u001B[1;34m(self, *args, **kwargs)\u001B[0m\n\u001B[0;32m    120\u001B[0m     msg \u001B[38;5;241m=\u001B[39m (\n\u001B[0;32m    121\u001B[0m         \u001B[38;5;124mf\u001B[39m\u001B[38;5;124m\"\u001B[39m\u001B[38;5;124mCannot use .str.\u001B[39m\u001B[38;5;132;01m{\u001B[39;00mfunc_name\u001B[38;5;132;01m}\u001B[39;00m\u001B[38;5;124m with values of \u001B[39m\u001B[38;5;124m\"\u001B[39m\n\u001B[0;32m    122\u001B[0m         \u001B[38;5;124mf\u001B[39m\u001B[38;5;124m\"\u001B[39m\u001B[38;5;124minferred dtype \u001B[39m\u001B[38;5;124m'\u001B[39m\u001B[38;5;132;01m{\u001B[39;00m\u001B[38;5;28mself\u001B[39m\u001B[38;5;241m.\u001B[39m_inferred_dtype\u001B[38;5;132;01m}\u001B[39;00m\u001B[38;5;124m'\u001B[39m\u001B[38;5;124m.\u001B[39m\u001B[38;5;124m\"\u001B[39m\n\u001B[0;32m    123\u001B[0m     )\n\u001B[0;32m    124\u001B[0m     \u001B[38;5;28;01mraise\u001B[39;00m \u001B[38;5;167;01mTypeError\u001B[39;00m(msg)\n\u001B[1;32m--> 125\u001B[0m \u001B[38;5;28;01mreturn\u001B[39;00m \u001B[43mfunc\u001B[49m\u001B[43m(\u001B[49m\u001B[38;5;28;43mself\u001B[39;49m\u001B[43m,\u001B[49m\u001B[43m \u001B[49m\u001B[38;5;241;43m*\u001B[39;49m\u001B[43margs\u001B[49m\u001B[43m,\u001B[49m\u001B[43m \u001B[49m\u001B[38;5;241;43m*\u001B[39;49m\u001B[38;5;241;43m*\u001B[39;49m\u001B[43mkwargs\u001B[49m\u001B[43m)\u001B[49m\n",
      "File \u001B[1;32mf:\\sowftwear\\git\\git\\classroom\\lab7\\script1\\lib\\site-packages\\pandas\\core\\strings\\accessor.py:1214\u001B[0m, in \u001B[0;36mStringMethods.contains\u001B[1;34m(self, pat, case, flags, na, regex)\u001B[0m\n\u001B[0;32m   1089\u001B[0m \u001B[38;5;129m@forbid_nonstring_types\u001B[39m([\u001B[38;5;124m\"\u001B[39m\u001B[38;5;124mbytes\u001B[39m\u001B[38;5;124m\"\u001B[39m])\n\u001B[0;32m   1090\u001B[0m \u001B[38;5;28;01mdef\u001B[39;00m \u001B[38;5;21mcontains\u001B[39m(\u001B[38;5;28mself\u001B[39m, pat, case\u001B[38;5;241m=\u001B[39m\u001B[38;5;28;01mTrue\u001B[39;00m, flags\u001B[38;5;241m=\u001B[39m\u001B[38;5;241m0\u001B[39m, na\u001B[38;5;241m=\u001B[39m\u001B[38;5;28;01mNone\u001B[39;00m, regex\u001B[38;5;241m=\u001B[39m\u001B[38;5;28;01mTrue\u001B[39;00m):\n\u001B[0;32m   1091\u001B[0m     \u001B[38;5;124mr\u001B[39m\u001B[38;5;124;03m\"\"\"\u001B[39;00m\n\u001B[0;32m   1092\u001B[0m \u001B[38;5;124;03m    Test if pattern or regex is contained within a string of a Series or Index.\u001B[39;00m\n\u001B[0;32m   1093\u001B[0m \n\u001B[1;32m   (...)\u001B[0m\n\u001B[0;32m   1212\u001B[0m \u001B[38;5;124;03m    dtype: bool\u001B[39;00m\n\u001B[0;32m   1213\u001B[0m \u001B[38;5;124;03m    \"\"\"\u001B[39;00m\n\u001B[1;32m-> 1214\u001B[0m     \u001B[38;5;28;01mif\u001B[39;00m regex \u001B[38;5;129;01mand\u001B[39;00m \u001B[43mre\u001B[49m\u001B[38;5;241;43m.\u001B[39;49m\u001B[43mcompile\u001B[49m\u001B[43m(\u001B[49m\u001B[43mpat\u001B[49m\u001B[43m)\u001B[49m\u001B[38;5;241m.\u001B[39mgroups:\n\u001B[0;32m   1215\u001B[0m         warnings\u001B[38;5;241m.\u001B[39mwarn(\n\u001B[0;32m   1216\u001B[0m             \u001B[38;5;124m\"\u001B[39m\u001B[38;5;124mThis pattern is interpreted as a regular expression, and has \u001B[39m\u001B[38;5;124m\"\u001B[39m\n\u001B[0;32m   1217\u001B[0m             \u001B[38;5;124m\"\u001B[39m\u001B[38;5;124mmatch groups. To actually get the groups, use str.extract.\u001B[39m\u001B[38;5;124m\"\u001B[39m,\n\u001B[0;32m   1218\u001B[0m             \u001B[38;5;167;01mUserWarning\u001B[39;00m,\n\u001B[0;32m   1219\u001B[0m             stacklevel\u001B[38;5;241m=\u001B[39mfind_stack_level(),\n\u001B[0;32m   1220\u001B[0m         )\n\u001B[0;32m   1222\u001B[0m     result \u001B[38;5;241m=\u001B[39m \u001B[38;5;28mself\u001B[39m\u001B[38;5;241m.\u001B[39m_data\u001B[38;5;241m.\u001B[39marray\u001B[38;5;241m.\u001B[39m_str_contains(pat, case, flags, na, regex)\n",
      "File \u001B[1;32mF:\\Sowftwear\\python\\lib\\re.py:252\u001B[0m, in \u001B[0;36mcompile\u001B[1;34m(pattern, flags)\u001B[0m\n\u001B[0;32m    250\u001B[0m \u001B[38;5;28;01mdef\u001B[39;00m \u001B[38;5;21mcompile\u001B[39m(pattern, flags\u001B[38;5;241m=\u001B[39m\u001B[38;5;241m0\u001B[39m):\n\u001B[0;32m    251\u001B[0m     \u001B[38;5;124m\"\u001B[39m\u001B[38;5;124mCompile a regular expression pattern, returning a Pattern object.\u001B[39m\u001B[38;5;124m\"\u001B[39m\n\u001B[1;32m--> 252\u001B[0m     \u001B[38;5;28;01mreturn\u001B[39;00m \u001B[43m_compile\u001B[49m\u001B[43m(\u001B[49m\u001B[43mpattern\u001B[49m\u001B[43m,\u001B[49m\u001B[43m \u001B[49m\u001B[43mflags\u001B[49m\u001B[43m)\u001B[49m\n",
      "File \u001B[1;32mF:\\Sowftwear\\python\\lib\\re.py:304\u001B[0m, in \u001B[0;36m_compile\u001B[1;34m(pattern, flags)\u001B[0m\n\u001B[0;32m    302\u001B[0m \u001B[38;5;28;01mif\u001B[39;00m \u001B[38;5;129;01mnot\u001B[39;00m sre_compile\u001B[38;5;241m.\u001B[39misstring(pattern):\n\u001B[0;32m    303\u001B[0m     \u001B[38;5;28;01mraise\u001B[39;00m \u001B[38;5;167;01mTypeError\u001B[39;00m(\u001B[38;5;124m\"\u001B[39m\u001B[38;5;124mfirst argument must be string or compiled pattern\u001B[39m\u001B[38;5;124m\"\u001B[39m)\n\u001B[1;32m--> 304\u001B[0m p \u001B[38;5;241m=\u001B[39m \u001B[43msre_compile\u001B[49m\u001B[38;5;241;43m.\u001B[39;49m\u001B[43mcompile\u001B[49m\u001B[43m(\u001B[49m\u001B[43mpattern\u001B[49m\u001B[43m,\u001B[49m\u001B[43m \u001B[49m\u001B[43mflags\u001B[49m\u001B[43m)\u001B[49m\n\u001B[0;32m    305\u001B[0m \u001B[38;5;28;01mif\u001B[39;00m \u001B[38;5;129;01mnot\u001B[39;00m (flags \u001B[38;5;241m&\u001B[39m DEBUG):\n\u001B[0;32m    306\u001B[0m     \u001B[38;5;28;01mif\u001B[39;00m \u001B[38;5;28mlen\u001B[39m(_cache) \u001B[38;5;241m>\u001B[39m\u001B[38;5;241m=\u001B[39m _MAXCACHE:\n\u001B[0;32m    307\u001B[0m         \u001B[38;5;66;03m# Drop the oldest item\u001B[39;00m\n",
      "File \u001B[1;32mF:\\Sowftwear\\python\\lib\\sre_compile.py:764\u001B[0m, in \u001B[0;36mcompile\u001B[1;34m(p, flags)\u001B[0m\n\u001B[0;32m    762\u001B[0m \u001B[38;5;28;01mif\u001B[39;00m isstring(p):\n\u001B[0;32m    763\u001B[0m     pattern \u001B[38;5;241m=\u001B[39m p\n\u001B[1;32m--> 764\u001B[0m     p \u001B[38;5;241m=\u001B[39m \u001B[43msre_parse\u001B[49m\u001B[38;5;241;43m.\u001B[39;49m\u001B[43mparse\u001B[49m\u001B[43m(\u001B[49m\u001B[43mp\u001B[49m\u001B[43m,\u001B[49m\u001B[43m \u001B[49m\u001B[43mflags\u001B[49m\u001B[43m)\u001B[49m\n\u001B[0;32m    765\u001B[0m \u001B[38;5;28;01melse\u001B[39;00m:\n\u001B[0;32m    766\u001B[0m     pattern \u001B[38;5;241m=\u001B[39m \u001B[38;5;28;01mNone\u001B[39;00m\n",
      "File \u001B[1;32mF:\\Sowftwear\\python\\lib\\sre_parse.py:948\u001B[0m, in \u001B[0;36mparse\u001B[1;34m(str, flags, state)\u001B[0m\n\u001B[0;32m    945\u001B[0m state\u001B[38;5;241m.\u001B[39mstr \u001B[38;5;241m=\u001B[39m \u001B[38;5;28mstr\u001B[39m\n\u001B[0;32m    947\u001B[0m \u001B[38;5;28;01mtry\u001B[39;00m:\n\u001B[1;32m--> 948\u001B[0m     p \u001B[38;5;241m=\u001B[39m \u001B[43m_parse_sub\u001B[49m\u001B[43m(\u001B[49m\u001B[43msource\u001B[49m\u001B[43m,\u001B[49m\u001B[43m \u001B[49m\u001B[43mstate\u001B[49m\u001B[43m,\u001B[49m\u001B[43m \u001B[49m\u001B[43mflags\u001B[49m\u001B[43m \u001B[49m\u001B[38;5;241;43m&\u001B[39;49m\u001B[43m \u001B[49m\u001B[43mSRE_FLAG_VERBOSE\u001B[49m\u001B[43m,\u001B[49m\u001B[43m \u001B[49m\u001B[38;5;241;43m0\u001B[39;49m\u001B[43m)\u001B[49m\n\u001B[0;32m    949\u001B[0m \u001B[38;5;28;01mexcept\u001B[39;00m Verbose:\n\u001B[0;32m    950\u001B[0m     \u001B[38;5;66;03m# the VERBOSE flag was switched on inside the pattern.  to be\u001B[39;00m\n\u001B[0;32m    951\u001B[0m     \u001B[38;5;66;03m# on the safe side, we'll parse the whole thing again...\u001B[39;00m\n\u001B[0;32m    952\u001B[0m     state \u001B[38;5;241m=\u001B[39m State()\n",
      "File \u001B[1;32mF:\\Sowftwear\\python\\lib\\sre_parse.py:443\u001B[0m, in \u001B[0;36m_parse_sub\u001B[1;34m(source, state, verbose, nested)\u001B[0m\n\u001B[0;32m    441\u001B[0m start \u001B[38;5;241m=\u001B[39m source\u001B[38;5;241m.\u001B[39mtell()\n\u001B[0;32m    442\u001B[0m \u001B[38;5;28;01mwhile\u001B[39;00m \u001B[38;5;28;01mTrue\u001B[39;00m:\n\u001B[1;32m--> 443\u001B[0m     itemsappend(\u001B[43m_parse\u001B[49m\u001B[43m(\u001B[49m\u001B[43msource\u001B[49m\u001B[43m,\u001B[49m\u001B[43m \u001B[49m\u001B[43mstate\u001B[49m\u001B[43m,\u001B[49m\u001B[43m \u001B[49m\u001B[43mverbose\u001B[49m\u001B[43m,\u001B[49m\u001B[43m \u001B[49m\u001B[43mnested\u001B[49m\u001B[43m \u001B[49m\u001B[38;5;241;43m+\u001B[39;49m\u001B[43m \u001B[49m\u001B[38;5;241;43m1\u001B[39;49m\u001B[43m,\u001B[49m\n\u001B[0;32m    444\u001B[0m \u001B[43m                       \u001B[49m\u001B[38;5;129;43;01mnot\u001B[39;49;00m\u001B[43m \u001B[49m\u001B[43mnested\u001B[49m\u001B[43m \u001B[49m\u001B[38;5;129;43;01mand\u001B[39;49;00m\u001B[43m \u001B[49m\u001B[38;5;129;43;01mnot\u001B[39;49;00m\u001B[43m \u001B[49m\u001B[43mitems\u001B[49m\u001B[43m)\u001B[49m)\n\u001B[0;32m    445\u001B[0m     \u001B[38;5;28;01mif\u001B[39;00m \u001B[38;5;129;01mnot\u001B[39;00m sourcematch(\u001B[38;5;124m\"\u001B[39m\u001B[38;5;124m|\u001B[39m\u001B[38;5;124m\"\u001B[39m):\n\u001B[0;32m    446\u001B[0m         \u001B[38;5;28;01mbreak\u001B[39;00m\n",
      "File \u001B[1;32mF:\\Sowftwear\\python\\lib\\sre_parse.py:668\u001B[0m, in \u001B[0;36m_parse\u001B[1;34m(source, state, verbose, nested, first)\u001B[0m\n\u001B[0;32m    666\u001B[0m     item \u001B[38;5;241m=\u001B[39m \u001B[38;5;28;01mNone\u001B[39;00m\n\u001B[0;32m    667\u001B[0m \u001B[38;5;28;01mif\u001B[39;00m \u001B[38;5;129;01mnot\u001B[39;00m item \u001B[38;5;129;01mor\u001B[39;00m item[\u001B[38;5;241m0\u001B[39m][\u001B[38;5;241m0\u001B[39m] \u001B[38;5;129;01mis\u001B[39;00m AT:\n\u001B[1;32m--> 668\u001B[0m     \u001B[38;5;28;01mraise\u001B[39;00m source\u001B[38;5;241m.\u001B[39merror(\u001B[38;5;124m\"\u001B[39m\u001B[38;5;124mnothing to repeat\u001B[39m\u001B[38;5;124m\"\u001B[39m,\n\u001B[0;32m    669\u001B[0m                        source\u001B[38;5;241m.\u001B[39mtell() \u001B[38;5;241m-\u001B[39m here \u001B[38;5;241m+\u001B[39m \u001B[38;5;28mlen\u001B[39m(this))\n\u001B[0;32m    670\u001B[0m \u001B[38;5;28;01mif\u001B[39;00m item[\u001B[38;5;241m0\u001B[39m][\u001B[38;5;241m0\u001B[39m] \u001B[38;5;129;01min\u001B[39;00m _REPEATCODES:\n\u001B[0;32m    671\u001B[0m     \u001B[38;5;28;01mraise\u001B[39;00m source\u001B[38;5;241m.\u001B[39merror(\u001B[38;5;124m\"\u001B[39m\u001B[38;5;124mmultiple repeat\u001B[39m\u001B[38;5;124m\"\u001B[39m,\n\u001B[0;32m    672\u001B[0m                        source\u001B[38;5;241m.\u001B[39mtell() \u001B[38;5;241m-\u001B[39m here \u001B[38;5;241m+\u001B[39m \u001B[38;5;28mlen\u001B[39m(this))\n",
      "\u001B[1;31merror\u001B[0m: nothing to repeat at position 0"
     ]
    }
   ],
   "source": [
    "df1[df1[\"temp1\"].str.contains(\"?\")==False]"
   ],
   "metadata": {
    "collapsed": false,
    "pycharm": {
     "name": "#%%\n"
    }
   }
  },
  {
   "cell_type": "code",
   "execution_count": 31,
   "outputs": [],
   "source": [],
   "metadata": {
    "collapsed": false,
    "pycharm": {
     "name": "#%%\n"
    }
   }
  },
  {
   "cell_type": "code",
   "execution_count": null,
   "outputs": [],
   "source": [],
   "metadata": {
    "collapsed": false,
    "pycharm": {
     "name": "#%%\n"
    }
   }
  }
 ],
 "metadata": {
  "kernelspec": {
   "display_name": "Python 3 (ipykernel)",
   "language": "python",
   "name": "python3"
  },
  "language_info": {
   "codemirror_mode": {
    "name": "ipython",
    "version": 3
   },
   "file_extension": ".py",
   "mimetype": "text/x-python",
   "name": "python",
   "nbconvert_exporter": "python",
   "pygments_lexer": "ipython3",
   "version": "3.8.5"
  }
 },
 "nbformat": 4,
 "nbformat_minor": 1
}